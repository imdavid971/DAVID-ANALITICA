{
 "cells": [
  {
   "cell_type": "code",
   "execution_count": 27,
   "id": "ea60a3c6-35cf-447c-8439-a15648b4ef99",
   "metadata": {},
   "outputs": [
    {
     "ename": "SyntaxError",
     "evalue": "incomplete input (3253260225.py, line 7)",
     "output_type": "error",
     "traceback": [
      "\u001b[1;36m  Cell \u001b[1;32mIn[27], line 7\u001b[1;36m\u001b[0m\n\u001b[1;33m    \u001b[0m\n\u001b[1;37m    ^\u001b[0m\n\u001b[1;31mSyntaxError\u001b[0m\u001b[1;31m:\u001b[0m incomplete input\n"
     ]
    }
   ],
   "source": [
    "import numpy as np\n",
    "tensor=np.array([[\n",
    "\t[[1,2],[3,4],[5,6]]],\n",
    "\t[[[1,2],[3,4],[5,6]]],\n",
    "\t[[[1,2],[3,4],[5,6]]]\n",
    "]\n",
    "                "
   ]
  },
  {
   "cell_type": "code",
   "execution_count": 39,
   "id": "af44f994-d6fa-4e26-a8f4-cb473c664e1e",
   "metadata": {},
   "outputs": [
    {
     "name": "stdin",
     "output_type": "stream",
     "text": [
      " ingrese el tamaño:  10\n",
      " ingrese el numero de filas acorde con el tamaño 2\n",
      " ingrese el numero de filas acorde con el tamaño 3\n"
     ]
    },
    {
     "ename": "ValueError",
     "evalue": "cannot reshape array of size 10 into shape (2,3)",
     "output_type": "error",
     "traceback": [
      "\u001b[1;31m---------------------------------------------------------------------------\u001b[0m",
      "\u001b[1;31mValueError\u001b[0m                                Traceback (most recent call last)",
      "Cell \u001b[1;32mIn[39], line 7\u001b[0m\n\u001b[0;32m      5\u001b[0m col \u001b[38;5;241m=\u001b[39m \u001b[38;5;28mint\u001b[39m(\u001b[38;5;28minput\u001b[39m(\u001b[38;5;124m\"\u001b[39m\u001b[38;5;124m ingrese el numero de filas acorde con el tamaño\u001b[39m\u001b[38;5;124m\"\u001b[39m ))\n\u001b[0;32m      6\u001b[0m res \u001b[38;5;241m=\u001b[39m np\u001b[38;5;241m.\u001b[39marange(tam)\n\u001b[1;32m----> 7\u001b[0m res \u001b[38;5;241m=\u001b[39m res\u001b[38;5;241m.\u001b[39mreshape(fil,col)\n\u001b[0;32m      8\u001b[0m res\n",
      "\u001b[1;31mValueError\u001b[0m: cannot reshape array of size 10 into shape (2,3)"
     ]
    }
   ],
   "source": [
    "import random \n",
    "import numpy as np\n",
    "tam = int(input(\" ingrese el tamaño: \"))\n",
    "fil = int(input(\" ingrese el numero de filas acorde con el tamaño\" ))\n",
    "col = int(input(\" ingrese el numero de filas acorde con el tamaño\" ))\n",
    "res = np.arange(tam)\n",
    "res = res.reshape(fil,col)\n",
    "res"
   ]
  },
  {
   "cell_type": "code",
   "execution_count": null,
   "id": "1b03727c-7f1c-44ee-ac07-96ee17c28be2",
   "metadata": {},
   "outputs": [],
   "source": []
  }
 ],
 "metadata": {
  "kernelspec": {
   "display_name": "Python [conda env:base] *",
   "language": "python",
   "name": "conda-base-py"
  },
  "language_info": {
   "codemirror_mode": {
    "name": "ipython",
    "version": 3
   },
   "file_extension": ".py",
   "mimetype": "text/x-python",
   "name": "python",
   "nbconvert_exporter": "python",
   "pygments_lexer": "ipython3",
   "version": "3.12.7"
  }
 },
 "nbformat": 4,
 "nbformat_minor": 5
}
